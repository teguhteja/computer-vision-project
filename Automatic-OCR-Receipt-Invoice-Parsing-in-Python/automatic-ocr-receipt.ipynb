{
 "cells": [
  {
   "cell_type": "code",
   "execution_count": 1,
   "metadata": {},
   "outputs": [
    {
     "name": "stdout",
     "output_type": "stream",
     "text": [
      "Requirement already satisfied: requests in /home/teguhteja/miniconda3/lib/python3.12/site-packages (2.31.0)\n",
      "Requirement already satisfied: charset-normalizer<4,>=2 in /home/teguhteja/miniconda3/lib/python3.12/site-packages (from requests) (2.0.4)\n",
      "Requirement already satisfied: idna<4,>=2.5 in /home/teguhteja/miniconda3/lib/python3.12/site-packages (from requests) (3.7)\n",
      "Requirement already satisfied: urllib3<3,>=1.21.1 in /home/teguhteja/miniconda3/lib/python3.12/site-packages (from requests) (2.1.0)\n",
      "Requirement already satisfied: certifi>=2017.4.17 in /home/teguhteja/miniconda3/lib/python3.12/site-packages (from requests) (2024.2.2)\n",
      "Note: you may need to restart the kernel to use updated packages.\n"
     ]
    }
   ],
   "source": [
    "%pip install requests"
   ]
  },
  {
   "cell_type": "code",
   "execution_count": 7,
   "metadata": {},
   "outputs": [],
   "source": [
    "import json\n",
    "import requests\n",
    "import pickle\n",
    "\n",
    "url = \"https://ocr.asprise.com/api/v1/receipt\"\n",
    "# image = \"template-walmart-1-1.png\"\n",
    "image = \"template-walmart-3-screenshot-1.png\"\n"
   ]
  },
  {
   "cell_type": "code",
   "execution_count": 8,
   "metadata": {},
   "outputs": [
    {
     "name": "stdout",
     "output_type": "stream",
     "text": [
      "<Response [200]>\n"
     ]
    }
   ],
   "source": [
    "res = requests.post(url,\n",
    "    data= {\n",
    "        'api_key': 'TEST',\n",
    "        'recognizer': 'auto',\n",
    "        'ref_no': 'oct_python_123'\n",
    "    },\n",
    "    files = {\n",
    "        'file': open(image, 'rb')\n",
    "    })\n",
    "print(res)"
   ]
  },
  {
   "cell_type": "code",
   "execution_count": 9,
   "metadata": {},
   "outputs": [],
   "source": [
    "with open(\"response2.json\", \"w\") as f:\n",
    "    json.dump(json.loads(res.text),f)"
   ]
  },
  {
   "cell_type": "code",
   "execution_count": 10,
   "metadata": {},
   "outputs": [
    {
     "name": "stdout",
     "output_type": "stream",
     "text": [
      "dict_keys(['merchant_name', 'merchant_address', 'merchant_phone', 'merchant_website', 'merchant_tax_reg_no', 'merchant_company_reg_no', 'region', 'mall', 'country', 'state', 'city', 'zip', 'receipt_no', 'date', 'time', 'items', 'currency', 'total', 'subtotal', 'tax', 'service_charge', 'tip', 'payment_method', 'payment_details', 'credit_card_type', 'credit_card_number', 'ocr_text', 'ocr_confidence', 'width', 'height', 'avg_char_width', 'avg_line_height', 'conf_amount', 'source_locations'])\n",
      "Your purchase at Walmart\n",
      "BELL PEPPER 000000004065 - $6.34\n",
      "CILANTRO000000004889 - $0.58\n",
      "CHARD000000004587 - $1.47\n",
      "RED ONION000000004082 - $1.67\n",
      "BROC CROWNS 000000003082 - $1.53\n",
      "ORG CELERY007357480002 - $1.76\n",
      "BULK PEARS000000004409 - $1.28\n",
      "BELL PEPPER 000000004065 - $6.34\n",
      "CILANTRO000000004889 - $0.58\n",
      "CHARD000000004587 - $1.47\n",
      "RED ONION000000004082 - $1.67\n",
      "BROC CROWNS 000000003082 - $1.53\n",
      "ORG CELERY007357480002 - $1.76\n",
      "BULK PEARS000000004409 - $1.28\n",
      "BELL PEPPER 000000004065 - $6.34\n",
      "CILANTRO000000004889 - $0.58\n",
      "CHARD000000004587 - $1.47\n",
      "RED ONION000000004082 - $1.67\n",
      "BROC CROWNS 000000003082 - $1.53\n",
      "ORG CELERY007357480002 - $1.76\n",
      "BULK PEARS000000004409 - $1.28\n",
      "BELL PEPPER 000000004065 - $6.34\n",
      "CILANTRO000000004889 - $0.58\n",
      "CHARD000000004587 - $1.47\n",
      "RED ONION000000004082 - $1.67\n",
      "BROC CROWNS 000000003082 - $1.53\n",
      "ORG CELERY007357480002 - $1.76\n",
      "BULK PEARS000000004409 - $1.28\n"
     ]
    }
   ],
   "source": [
    "with open(\"response2.json\", \"r\") as f:\n",
    "    data = json.load(f)\n",
    "\n",
    "print(data['receipts'][0].keys())\n",
    "items = data['receipts'][0]['items']\n",
    "print(f\"Your purchase at {data['receipts'][0]['merchant_name']}\")\n",
    "\n",
    "for item in items:\n",
    "    print(f\"{item['description']} - ${item['amount']}\")\n"
   ]
  },
  {
   "cell_type": "code",
   "execution_count": 14,
   "metadata": {},
   "outputs": [
    {
     "name": "stdout",
     "output_type": "stream",
     "text": [
      "------------------------------\n",
      "Subtotal: 113.17\n",
      "Tax: 7.5\n",
      "------------------------------\n",
      "Total: 7.5\n"
     ]
    }
   ],
   "source": [
    "print(\"-\" * 30)\n",
    "\n",
    "print(f\"Subtotal: {data['receipts'][0]['subtotal']}\")\n",
    "print(f\"Tax: {data['receipts'][0]['tax']}\")\n",
    "print(\"-\" * 30)\n",
    "\n",
    "print(f\"Total: {data['receipts'][0]['tax']}\")\n"
   ]
  },
  {
   "cell_type": "code",
   "execution_count": null,
   "metadata": {},
   "outputs": [],
   "source": []
  }
 ],
 "metadata": {
  "kernelspec": {
   "display_name": "base",
   "language": "python",
   "name": "python3"
  },
  "language_info": {
   "codemirror_mode": {
    "name": "ipython",
    "version": 3
   },
   "file_extension": ".py",
   "mimetype": "text/x-python",
   "name": "python",
   "nbconvert_exporter": "python",
   "pygments_lexer": "ipython3",
   "version": "3.12.2"
  }
 },
 "nbformat": 4,
 "nbformat_minor": 2
}
